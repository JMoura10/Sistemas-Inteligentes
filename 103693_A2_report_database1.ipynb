{
 "cells": [
  {
   "cell_type": "markdown",
   "id": "ceeda655-2b4a-4b50-9cb5-c781cc939f28",
   "metadata": {},
   "source": [
    "https://github.com/JMoura10/Sistemas-Inteligentes"
   ]
  },
  {
   "cell_type": "markdown",
   "id": "24eab9ce-9be3-441a-9d30-7aa06a531df2",
   "metadata": {},
   "source": [
    "The following code predicts a quantitative measure of disease progression one year after baseline, using 10 baseline variables.\n",
    "All the necessary libraries were imported at the beginning of the code for organisational and clarity purposes."
   ]
  },
  {
   "cell_type": "code",
   "execution_count": 1,
   "id": "d17f2103-8322-4ca4-88d1-04901f221d03",
   "metadata": {},
   "outputs": [],
   "source": [
    "import numpy as np\n",
    "from sklearn import datasets\n",
    "from sklearn.preprocessing import StandardScaler\n",
    "from sklearn.model_selection import train_test_split\n",
    "from sklearn.metrics import mean_squared_error,r2_score\n",
    "import skfuzzy as fuzz\n",
    "import matplotlib.pyplot as plt\n",
    "import torch.nn.functional as F\n",
    "import torch\n",
    "import torch.nn as nn\n",
    "import torch.optim as optim\n",
    "from torch.utils.data import TensorDataset, DataLoader\n",
    "import pandas"
   ]
  },
  {
   "cell_type": "markdown",
   "id": "5797ea03-3538-4094-97c7-9647ba5a8608",
   "metadata": {},
   "source": [
    "Having all the necessary libraries imported, the dataset to be used was loaded, and the 10 baseline variables and the target were identified."
   ]
  },
  {
   "cell_type": "code",
   "execution_count": 2,
   "id": "68a4aa61-3118-49ca-9236-cb1113515547",
   "metadata": {},
   "outputs": [],
   "source": [
    "# Load dataset\n",
    "diabetes = datasets.load_diabetes(as_frame=True)\n",
    "x = diabetes.data\n",
    "y = diabetes.target.values"
   ]
  },
  {
   "cell_type": "markdown",
   "id": "8950ad00-0770-4c88-840d-93b76c69e241",
   "metadata": {},
   "source": [
    "Before performing any type of modelling, it is extremely important to split the data into two different sets, one for training and the other for testing. While the training data will be used to build the model, the test data will be used to evaluate its performance. The test set is smaller than the training set so that most of the data could be used to train the model, but it has to be large enough to provide a reliable evaluation. In this case, 20% of the total data was used for testing. This step is crucial because the model should be tested on unseen data, which is data that was not used to build it. Otherwise, the model might appear perfect, and it would not reflect its real performance for new data."
   ]
  },
  {
   "cell_type": "code",
   "execution_count": 3,
   "id": "e3499a95-2450-4cf2-9b64-d46650ea1ebc",
   "metadata": {},
   "outputs": [],
   "source": [
    "# Splitting data into train and test\n",
    "test_size = 0.2\n",
    "x_train, x_test, y_train, y_test = train_test_split(x, y, test_size=test_size, random_state=42)"
   ]
  },
  {
   "cell_type": "markdown",
   "id": "ce40567a-4cc0-44d5-b13d-8f0ce2083dbf",
   "metadata": {},
   "source": [
    "Since the features of the dataset were in different scales, standardisation was applied. This way, the data was transformed so that each feature has zero mean and unit variance, allowing a comparison between them."
   ]
  },
  {
   "cell_type": "code",
   "execution_count": 4,
   "id": "52b2c0b9-e5bd-4836-8252-8b2ff50f1ef1",
   "metadata": {},
   "outputs": [],
   "source": [
    "# Standardise features\n",
    "scaler = StandardScaler()\n",
    "x_train = scaler.fit_transform(x_train)\n",
    "x_test = scaler.transform(x_test)"
   ]
  },
  {
   "cell_type": "markdown",
   "id": "5b037324-b301-4889-b4dd-c86fe9e42370",
   "metadata": {},
   "source": [
    "After preparing the data, fuzzy c-means clustering was applied. This method partitioned the data into a pre-defined number of clusters, and each cluster corresponded to a rule that was later used on the TSK (Takagi-Sugeno) model.\n",
    "The number of clusters and the parameter m, which controls how wide the membership function is, were tuned in order to reduce the MSE (Mean Squared Error), leading to a more reliable model.\n",
    "The clustering returns, among other outputs, the centres and membership degrees of each cluster."
   ]
  },
  {
   "cell_type": "code",
   "execution_count": 5,
   "id": "dea361f9-41c3-452f-9002-c04768a908d1",
   "metadata": {},
   "outputs": [
    {
     "data": {
      "text/plain": [
       "(4, 11)"
      ]
     },
     "execution_count": 5,
     "metadata": {},
     "output_type": "execute_result"
    }
   ],
   "source": [
    "# Number of clusters \n",
    "n_clusters = 4\n",
    "m=2\n",
    "\n",
    "# Concatenate target for clustering\n",
    "x_exp=np.concatenate([x_train, y_train.reshape(-1, 1)], axis=1)\n",
    "\n",
    "# Transpose data for skfuzzy (expects features x samples)\n",
    "x_exp_T = x_exp.T \n",
    "\n",
    "# Fuzzy C-means clustering\n",
    "centers, u, u0, d, jm, p, fpc = fuzz.cluster.cmeans(\n",
    "    x_exp_T, n_clusters, m=m, error=0.005, maxiter=1000, init=None,\n",
    ")\n",
    "centers.shape"
   ]
  },
  {
   "cell_type": "markdown",
   "id": "6ebb4d2e-3d0d-4a25-996b-10282ee46bbf",
   "metadata": {},
   "source": [
    "Then, the spread of each cluster, represented by sigma, was computed using the membership degrees as weights. These values were later used as parameters for the Gaussian formula in the TSK model."
   ]
  },
  {
   "cell_type": "code",
   "execution_count": 6,
   "id": "8b867efb-7381-456e-9857-12dbce49a712",
   "metadata": {},
   "outputs": [],
   "source": [
    "# Compute sigma (spread) for each cluster\n",
    "sigmas = []\n",
    "for j in range(n_clusters):\n",
    "    # membership weights for cluster j, raised to m\n",
    "    u_j = u[j, :] ** m\n",
    "    # weighted variance for each feature\n",
    "    var_j = np.average((x_exp - centers[j])**2, axis=0, weights=u_j)\n",
    "    sigma_j = np.sqrt(var_j)\n",
    "    sigmas.append(sigma_j)\n",
    "sigmas=np.array(sigmas)"
   ]
  },
  {
   "cell_type": "markdown",
   "id": "d73cf04a-df50-419b-9c00-b31d7f8bee91",
   "metadata": {},
   "source": [
    "Once the fuzzy clustering was computed, a hard partition of the samples was obtained by assigning each point to the cluster where it had the highest membership degree. A scatter plot was also made, where the transparency of each point reflects its membership degree to the respective cluster."
   ]
  },
  {
   "cell_type": "code",
   "execution_count": 7,
   "id": "bb26b569-fe4d-4006-88e7-3f1da7d15cff",
   "metadata": {},
   "outputs": [
    {
     "name": "stdout",
     "output_type": "stream",
     "text": [
      "Fuzzy partition coefficient (FPC): 0.780319261044535\n"
     ]
    },
    {
     "data": {
      "image/png": "[encoded data removed]",
      "text/plain": [
       "<Figure size 576x432 with 1 Axes>"
      ]
     },
     "metadata": {
      "needs_background": "light"
     },
     "output_type": "display_data"
    }
   ],
   "source": [
    "# Hard clustering from fuzzy membership\n",
    "cluster_labels = np.argmax(u, axis=0)\n",
    "print(\"Fuzzy partition coefficient (FPC):\", fpc)\n",
    "\n",
    "# Plot first two features with fuzzy membership\n",
    "plt.figure(figsize=(8,6))\n",
    "for j in range(n_clusters):\n",
    "    plt.scatter(\n",
    "        x_exp[cluster_labels == j, 0],             # Feature 1\n",
    "        x_exp[cluster_labels == j, 1],             # Feature 2\n",
    "        alpha=u[j, :],          # transparency ~ membership\n",
    "        label=f'Cluster {j}'\n",
    "    )\n",
    "\n",
    "plt.title(\"Fuzzy C-Means Clustering (with membership degree)\")\n",
    "plt.xlabel(\"Feature 1\")\n",
    "plt.ylabel(\"Feature 2\")\n",
    "plt.legend()\n",
    "plt.show()"
   ]
  },
  {
   "cell_type": "markdown",
   "id": "c658aa3a-431e-4548-8cf7-ddfad36e3f65",
   "metadata": {},
   "source": [
    "The aspect of the graph is explained by the nature of Feature 2. Since it represents the sex of the person, a binary feature, it only takes two values and the points align in two horizontal lines."
   ]
  },
  {
   "cell_type": "markdown",
   "id": "1d63b95e-f57a-4760-aadb-ed8015f12b27",
   "metadata": {},
   "source": [
    "The next step was to plot the Gaussian membership function for each cluster, using its centre and spread. The resulting curves illustrate how the membership degree of each cluster varies across the range of the feature."
   ]
  },
  {
   "cell_type": "code",
   "execution_count": 8,
   "id": "fb4cc53b-5f57-4dd5-b8d3-9bb9ab00b57b",
   "metadata": {},
   "outputs": [
    {
     "data": {
      "image/png": "[encoded data removed]",
      "text/plain": [
       "<Figure size 576x432 with 1 Axes>"
      ]
     },
     "metadata": {
      "needs_background": "light"
     },
     "output_type": "display_data"
    }
   ],
   "source": [
    "# Gaussian formula\n",
    "def gaussian(x, mu, sigma):\n",
    "    return np.exp(-0.5 * ((x - mu)/sigma)**2)\n",
    "\n",
    "lin=np.linspace(-2, 4, 500)\n",
    "plt.figure(figsize=(8,6))\n",
    "\n",
    "y_aux=[]\n",
    "for j in range(n_clusters):\n",
    "# Compute curves\n",
    "    y_aux.append(gaussian(lin, centers[j,0], sigmas[j,0])) # only use centres and sigmas\n",
    "\n",
    "# Plot\n",
    "    plt.plot(lin, y_aux[j], label=f\"Gaussian μ={np.round(centers[j,0],2)}, σ={np.round(sigmas[j,0],2)}\")\n",
    "\n",
    "plt.title(\"Projection of the membership functions on Feature 1\")\n",
    "plt.xlabel(\"Feature 1\")\n",
    "plt.ylabel(\"Degree of Membership\")\n",
    "plt.legend()\n",
    "plt.grid(True)\n",
    "plt.show()"
   ]
  },
  {
   "cell_type": "markdown",
   "id": "28bf5405-f829-46fb-a282-4dd8aabf8439",
   "metadata": {},
   "source": [
    "The TSK model was implemented using information already computed before. In a TSK model, the overall output is a weighted average of the rule inputs. The antecedents of the model were represented by the Gaussian membership functions, characterised by the centres and spread of each cluster obtained from fuzzy c-means clustering. The consequents were defined as linear functions of the inputs, with each rule having its own coefficients for each input and a bias."
   ]
  },
  {
   "cell_type": "code",
   "execution_count": 9,
   "id": "fc8a0bef-2e29-4437-ba52-d6686893002c",
   "metadata": {},
   "outputs": [],
   "source": [
    "# Implementation of TSK\n",
    "# ---------------------------\n",
    "# Gaussian Membership Function\n",
    "# ---------------------------\n",
    "class GaussianMF(nn.Module):\n",
    "    def __init__(self, centers, sigmas, agg_prob):\n",
    "        super().__init__()\n",
    "        self.centers = nn.Parameter(torch.tensor(centers, dtype=torch.float32))\n",
    "        self.sigmas = nn.Parameter(torch.tensor(sigmas, dtype=torch.float32))\n",
    "        self.agg_prob=agg_prob\n",
    "\n",
    "    def forward(self, x):\n",
    "        # Expand for broadcasting\n",
    "        # x: (batch, 1, n_dims), centers: (1, n_rules, n_dims), sigmas: (1, n_rules, n_dims)\n",
    "        diff = abs((x.unsqueeze(1) - self.centers.unsqueeze(0))/self.sigmas.unsqueeze(0)) #(batch, n_rules, n_dims)\n",
    "\n",
    "        # Aggregation\n",
    "        if self.agg_prob:\n",
    "            dist = torch.norm(diff, dim=-1)  # (batch, n_rules) # probablistic intersection\n",
    "        else:\n",
    "            dist = torch.max(diff, dim=-1).values  # (batch, n_rules) # min intersection (min instersection of normal funtion is the same as the max on dist)\n",
    "        \n",
    "        return torch.exp(-0.5 * dist ** 2)\n",
    "\n",
    "\n",
    "# ---------------------------\n",
    "# TSK Model\n",
    "# ---------------------------\n",
    "class TSK(nn.Module):\n",
    "    def __init__(self, n_inputs, n_rules, centers, sigmas,agg_prob=False):\n",
    "        super().__init__()\n",
    "        self.n_inputs = n_inputs\n",
    "        self.n_rules = n_rules\n",
    "\n",
    "        # Antecedents (Gaussian MFs)\n",
    "        \n",
    "        self.mfs=GaussianMF(centers, sigmas,agg_prob) \n",
    "\n",
    "        # Consequents (linear functions of inputs)\n",
    "        # Each rule has coeffs for each input + bias\n",
    "        self.consequents = nn.Parameter(\n",
    "            torch.randn(n_inputs + 1,n_rules)\n",
    "        )\n",
    "\n",
    "    def forward(self, x):\n",
    "        # x: (batch, n_inputs)\n",
    "        batch_size = x.shape[0]\n",
    "        \n",
    "        # Compute membership values for each input feature\n",
    "        # firing_strengths: (batch, n_rules)\n",
    "        firing_strengths = self.mfs(x)\n",
    "        \n",
    "        # Normalize memberships\n",
    "        # norm_fs: (batch, n_rules)\n",
    "        norm_fs = firing_strengths / (firing_strengths.sum(dim=1, keepdim=True) + 1e-9)\n",
    "\n",
    "        # Consequent output (linear model per rule)\n",
    "        x_aug = torch.cat([x, torch.ones(batch_size, 1)], dim=1)  # add bias\n",
    "\n",
    "        rule_outputs = torch.einsum(\"br,rk->bk\", x_aug, self.consequents)  # (batch, rules)\n",
    "        # Weighted sum\n",
    "        output = torch.sum(norm_fs * rule_outputs, dim=1, keepdim=True)\n",
    "\n",
    "        return output, norm_fs, rule_outputs"
   ]
  },
  {
   "cell_type": "markdown",
   "id": "1269a3a3-b46a-4f34-ba7d-52c46fc9966f",
   "metadata": {},
   "source": [
    "The parameters for the antecedents and for the consequents were determined in distinct ways, using the hybrid ANFIS training method. The antecedent parameters were adjusted through gradient descent, with backward pass. The consequent parameters were optimised by solving a linear system using least squares. This hybrid approach allows a much faster convergence compared to the use of a single method."
   ]
  },
  {
   "cell_type": "code",
   "execution_count": 10,
   "id": "726075e1-7318-4ff7-aa9c-92f1980c26ea",
   "metadata": {},
   "outputs": [],
   "source": [
    "# ---------------------------\n",
    "# Gradient Descent Training \n",
    "# ---------------------------\n",
    "def train_gd(model, x, y, epochs=100, lr=1e-3):\n",
    "    optimizer = optim.Adam(model.parameters(), lr=lr)\n",
    "    criterion = nn.MSELoss()\n",
    "    for _ in range(epochs):\n",
    "        optimizer.zero_grad()\n",
    "        y_pred, _, _ = model(x)\n",
    "        loss = criterion(y_pred, y)\n",
    "        print(loss)\n",
    "        loss.backward()\n",
    "        optimizer.step()"
   ]
  },
  {
   "cell_type": "code",
   "execution_count": 11,
   "id": "09abde61-5de5-4901-994d-6767e930ea96",
   "metadata": {},
   "outputs": [],
   "source": [
    "# ---------------------------\n",
    "# Least Squares Solver for Consequents (TSK)\n",
    "# ---------------------------\n",
    "def train_ls(model, x, y):\n",
    "    with torch.no_grad():\n",
    "        _, norm_fs, _ = model(x)\n",
    "\n",
    "        # Design matrix for LS: combine normalized firing strengths with input\n",
    "        X_aug = torch.cat([x, torch.ones(x.shape[0], 1)], dim=1)\n",
    "        \n",
    "        phi = torch.einsum(\"br,bi->bri\", X_aug, norm_fs).reshape(x.shape[0], -1)\n",
    "        \n",
    "        # Solve LS: consequents = (Phi^T Phi)^-1 Phi^T y\n",
    "        \n",
    "        theta= torch.linalg.lstsq(phi, y).solution\n",
    "        \n",
    "        model.consequents.data = theta.reshape(model.consequents.shape)"
   ]
  },
  {
   "cell_type": "code",
   "execution_count": 12,
   "id": "d610b7d8-dd46-4f3f-b28f-30fed163ee13",
   "metadata": {},
   "outputs": [],
   "source": [
    "# ---------------------------\n",
    "# Hybrid Training (Classic ANFIS)\n",
    "# updated version only has one for loop\n",
    "# ---------------------------\n",
    "def train_hybrid_anfis(model, x, y, max_iters=10, gd_epochs=20, lr=1e-3):\n",
    "    train_ls(model, x, y)\n",
    "    for _ in range(max_iters):\n",
    "        # Step A: GD on antecedents (freeze consequents)\n",
    "        model.consequents.requires_grad = False\n",
    "        train_gd(model, x, y, epochs=gd_epochs, lr=lr)\n",
    "\n",
    "        # Step B: LS on consequents (freeze antecedents)\n",
    "        model.consequents.requires_grad = True\n",
    "        model.mfs.requires_grad = False\n",
    "        train_ls(model, x, y)\n",
    "\n",
    "        # Re-enable antecedents\n",
    "        model.mfs.requires_grad = True"
   ]
  },
  {
   "cell_type": "markdown",
   "id": "010eba74-2500-4096-9e6b-e318b2e78f5b",
   "metadata": {},
   "source": [
    "The model was ready to be built, using the previously obtained results for the antecedents and consequents."
   ]
  },
  {
   "cell_type": "code",
   "execution_count": 13,
   "id": "7aab1b4c-f0b4-4c1c-9c37-4b6d42dbab3f",
   "metadata": {},
   "outputs": [],
   "source": [
    "# Build model\n",
    "model = TSK(n_inputs=x_train.shape[1], n_rules=n_clusters, centers=centers[:,:-1], sigmas=sigmas[:,:-1])\n",
    "\n",
    "x_train = torch.tensor(x_train, dtype=torch.float32)\n",
    "y_train = torch.tensor(y_train, dtype=torch.float32)\n",
    "x_test = torch.tensor(x_test, dtype=torch.float32)\n",
    "y_test = torch.tensor(y_test, dtype=torch.float32)"
   ]
  },
  {
   "cell_type": "markdown",
   "id": "c24900b6-77ee-45a6-ad72-f2b92213b7ac",
   "metadata": {},
   "source": [
    "Having built the model, it was trained employing the hybrid ANFIS solution defined above."
   ]
  },
  {
   "cell_type": "code",
   "execution_count": 14,
   "id": "a779b046-bafb-44bb-b756-6df4624bfac4",
   "metadata": {},
   "outputs": [
    {
     "name": "stdout",
     "output_type": "stream",
     "text": [
      "tensor(2355.3774, grad_fn=<MseLossBackward0>)\n",
      "tensor(2354.8269, grad_fn=<MseLossBackward0>)\n",
      "tensor(2354.2812, grad_fn=<MseLossBackward0>)\n",
      "tensor(2353.7378, grad_fn=<MseLossBackward0>)\n",
      "tensor(2353.1973, grad_fn=<MseLossBackward0>)\n",
      "tensor(2352.6582, grad_fn=<MseLossBackward0>)\n",
      "tensor(2352.1221, grad_fn=<MseLossBackward0>)\n",
      "tensor(2351.5920, grad_fn=<MseLossBackward0>)\n",
      "tensor(2351.0645, grad_fn=<MseLossBackward0>)\n",
      "tensor(2350.5386, grad_fn=<MseLossBackward0>)\n",
      "tensor(2350.0132, grad_fn=<MseLossBackward0>)\n",
      "tensor(2349.4893, grad_fn=<MseLossBackward0>)\n",
      "tensor(2348.9675, grad_fn=<MseLossBackward0>)\n",
      "tensor(2348.4473, grad_fn=<MseLossBackward0>)\n",
      "tensor(2347.9292, grad_fn=<MseLossBackward0>)\n",
      "tensor(2347.4148, grad_fn=<MseLossBackward0>)\n",
      "tensor(2346.9031, grad_fn=<MseLossBackward0>)\n",
      "tensor(2346.3928, grad_fn=<MseLossBackward0>)\n",
      "tensor(2345.8853, grad_fn=<MseLossBackward0>)\n",
      "tensor(2345.3826, grad_fn=<MseLossBackward0>)\n",
      "tensor(2344.5596, grad_fn=<MseLossBackward0>)\n",
      "tensor(2344.0181, grad_fn=<MseLossBackward0>)\n",
      "tensor(2343.4790, grad_fn=<MseLossBackward0>)\n",
      "tensor(2342.9424, grad_fn=<MseLossBackward0>)\n",
      "tensor(2342.4084, grad_fn=<MseLossBackward0>)\n",
      "tensor(2341.8772, grad_fn=<MseLossBackward0>)\n",
      "tensor(2341.3479, grad_fn=<MseLossBackward0>)\n",
      "tensor(2340.8206, grad_fn=<MseLossBackward0>)\n",
      "tensor(2340.2981, grad_fn=<MseLossBackward0>)\n",
      "tensor(2339.7771, grad_fn=<MseLossBackward0>)\n",
      "tensor(2339.2581, grad_fn=<MseLossBackward0>)\n",
      "tensor(2338.7417, grad_fn=<MseLossBackward0>)\n",
      "tensor(2338.2278, grad_fn=<MseLossBackward0>)\n",
      "tensor(2337.7161, grad_fn=<MseLossBackward0>)\n",
      "tensor(2337.2109, grad_fn=<MseLossBackward0>)\n",
      "tensor(2336.7122, grad_fn=<MseLossBackward0>)\n",
      "tensor(2336.2156, grad_fn=<MseLossBackward0>)\n",
      "tensor(2335.7217, grad_fn=<MseLossBackward0>)\n",
      "tensor(2335.2288, grad_fn=<MseLossBackward0>)\n",
      "tensor(2334.7246, grad_fn=<MseLossBackward0>)\n",
      "tensor(2333.8152, grad_fn=<MseLossBackward0>)\n",
      "tensor(2333.2661, grad_fn=<MseLossBackward0>)\n",
      "tensor(2332.7205, grad_fn=<MseLossBackward0>)\n",
      "tensor(2332.1770, grad_fn=<MseLossBackward0>)\n",
      "tensor(2331.6357, grad_fn=<MseLossBackward0>)\n",
      "tensor(2331.0969, grad_fn=<MseLossBackward0>)\n",
      "tensor(2330.5608, grad_fn=<MseLossBackward0>)\n",
      "tensor(2330.0269, grad_fn=<MseLossBackward0>)\n",
      "tensor(2329.4956, grad_fn=<MseLossBackward0>)\n",
      "tensor(2328.9656, grad_fn=<MseLossBackward0>)\n",
      "tensor(2328.4373, grad_fn=<MseLossBackward0>)\n",
      "tensor(2327.9185, grad_fn=<MseLossBackward0>)\n",
      "tensor(2327.4036, grad_fn=<MseLossBackward0>)\n",
      "tensor(2326.8914, grad_fn=<MseLossBackward0>)\n",
      "tensor(2326.3818, grad_fn=<MseLossBackward0>)\n",
      "tensor(2325.8752, grad_fn=<MseLossBackward0>)\n",
      "tensor(2325.3708, grad_fn=<MseLossBackward0>)\n",
      "tensor(2324.8694, grad_fn=<MseLossBackward0>)\n",
      "tensor(2324.3704, grad_fn=<MseLossBackward0>)\n",
      "tensor(2323.8740, grad_fn=<MseLossBackward0>)\n",
      "tensor(2322.9443, grad_fn=<MseLossBackward0>)\n",
      "tensor(2322.4001, grad_fn=<MseLossBackward0>)\n",
      "tensor(2321.8586, grad_fn=<MseLossBackward0>)\n",
      "tensor(2321.3198, grad_fn=<MseLossBackward0>)\n",
      "tensor(2320.7837, grad_fn=<MseLossBackward0>)\n",
      "tensor(2320.2505, grad_fn=<MseLossBackward0>)\n",
      "tensor(2319.7239, grad_fn=<MseLossBackward0>)\n",
      "tensor(2319.2163, grad_fn=<MseLossBackward0>)\n",
      "tensor(2318.7058, grad_fn=<MseLossBackward0>)\n",
      "tensor(2318.1929, grad_fn=<MseLossBackward0>)\n",
      "tensor(2317.6799, grad_fn=<MseLossBackward0>)\n",
      "tensor(2317.1672, grad_fn=<MseLossBackward0>)\n",
      "tensor(2316.6638, grad_fn=<MseLossBackward0>)\n",
      "tensor(2316.1653, grad_fn=<MseLossBackward0>)\n",
      "tensor(2315.6685, grad_fn=<MseLossBackward0>)\n",
      "tensor(2315.1731, grad_fn=<MseLossBackward0>)\n",
      "tensor(2314.6799, grad_fn=<MseLossBackward0>)\n",
      "tensor(2314.1885, grad_fn=<MseLossBackward0>)\n",
      "tensor(2313.6990, grad_fn=<MseLossBackward0>)\n",
      "tensor(2313.2117, grad_fn=<MseLossBackward0>)\n",
      "tensor(2312.2554, grad_fn=<MseLossBackward0>)\n",
      "tensor(2311.7129, grad_fn=<MseLossBackward0>)\n",
      "tensor(2311.1875, grad_fn=<MseLossBackward0>)\n",
      "tensor(2310.6565, grad_fn=<MseLossBackward0>)\n",
      "tensor(2310.1248, grad_fn=<MseLossBackward0>)\n",
      "tensor(2309.6086, grad_fn=<MseLossBackward0>)\n",
      "tensor(2309.0957, grad_fn=<MseLossBackward0>)\n",
      "tensor(2308.5845, grad_fn=<MseLossBackward0>)\n",
      "tensor(2308.0747, grad_fn=<MseLossBackward0>)\n",
      "tensor(2307.5706, grad_fn=<MseLossBackward0>)\n",
      "tensor(2307.0676, grad_fn=<MseLossBackward0>)\n",
      "tensor(2306.5659, grad_fn=<MseLossBackward0>)\n",
      "tensor(2306.0688, grad_fn=<MseLossBackward0>)\n",
      "tensor(2305.5779, grad_fn=<MseLossBackward0>)\n",
      "tensor(2305.0996, grad_fn=<MseLossBackward0>)\n",
      "tensor(2304.6226, grad_fn=<MseLossBackward0>)\n",
      "tensor(2304.1479, grad_fn=<MseLossBackward0>)\n",
      "tensor(2303.6743, grad_fn=<MseLossBackward0>)\n",
      "tensor(2303.2036, grad_fn=<MseLossBackward0>)\n",
      "tensor(2302.7329, grad_fn=<MseLossBackward0>)\n",
      "tensor(2301.7947, grad_fn=<MseLossBackward0>)\n",
      "tensor(2301.2839, grad_fn=<MseLossBackward0>)\n",
      "tensor(2300.7590, grad_fn=<MseLossBackward0>)\n",
      "tensor(2300.2439, grad_fn=<MseLossBackward0>)\n",
      "tensor(2299.7263, grad_fn=<MseLossBackward0>)\n",
      "tensor(2299.2202, grad_fn=<MseLossBackward0>)\n",
      "tensor(2298.7363, grad_fn=<MseLossBackward0>)\n",
      "tensor(2298.2512, grad_fn=<MseLossBackward0>)\n",
      "tensor(2297.7681, grad_fn=<MseLossBackward0>)\n",
      "tensor(2297.2864, grad_fn=<MseLossBackward0>)\n",
      "tensor(2296.8064, grad_fn=<MseLossBackward0>)\n",
      "tensor(2296.3296, grad_fn=<MseLossBackward0>)\n",
      "tensor(2295.8586, grad_fn=<MseLossBackward0>)\n",
      "tensor(2295.3909, grad_fn=<MseLossBackward0>)\n",
      "tensor(2294.9221, grad_fn=<MseLossBackward0>)\n",
      "tensor(2294.4568, grad_fn=<MseLossBackward0>)\n",
      "tensor(2294.0005, grad_fn=<MseLossBackward0>)\n",
      "tensor(2293.5464, grad_fn=<MseLossBackward0>)\n",
      "tensor(2293.1013, grad_fn=<MseLossBackward0>)\n",
      "tensor(2292.6497, grad_fn=<MseLossBackward0>)\n",
      "tensor(2291.7478, grad_fn=<MseLossBackward0>)\n",
      "tensor(2291.2383, grad_fn=<MseLossBackward0>)\n",
      "tensor(2290.7068, grad_fn=<MseLossBackward0>)\n",
      "tensor(2290.1885, grad_fn=<MseLossBackward0>)\n",
      "tensor(2289.6702, grad_fn=<MseLossBackward0>)\n",
      "tensor(2289.1550, grad_fn=<MseLossBackward0>)\n",
      "tensor(2288.6448, grad_fn=<MseLossBackward0>)\n",
      "tensor(2288.1365, grad_fn=<MseLossBackward0>)\n",
      "tensor(2287.6299, grad_fn=<MseLossBackward0>)\n",
      "tensor(2287.1250, grad_fn=<MseLossBackward0>)\n",
      "tensor(2286.6240, grad_fn=<MseLossBackward0>)\n",
      "tensor(2286.1270, grad_fn=<MseLossBackward0>)\n",
      "tensor(2285.6323, grad_fn=<MseLossBackward0>)\n",
      "tensor(2285.1438, grad_fn=<MseLossBackward0>)\n",
      "tensor(2284.6619, grad_fn=<MseLossBackward0>)\n",
      "tensor(2284.1799, grad_fn=<MseLossBackward0>)\n",
      "tensor(2283.6980, grad_fn=<MseLossBackward0>)\n",
      "tensor(2283.2197, grad_fn=<MseLossBackward0>)\n",
      "tensor(2282.7463, grad_fn=<MseLossBackward0>)\n",
      "tensor(2282.2791, grad_fn=<MseLossBackward0>)\n",
      "tensor(2281.3850, grad_fn=<MseLossBackward0>)\n",
      "tensor(2280.8787, grad_fn=<MseLossBackward0>)\n",
      "tensor(2280.3711, grad_fn=<MseLossBackward0>)\n",
      "tensor(2279.8750, grad_fn=<MseLossBackward0>)\n",
      "tensor(2279.4011, grad_fn=<MseLossBackward0>)\n",
      "tensor(2278.9204, grad_fn=<MseLossBackward0>)\n",
      "tensor(2278.4446, grad_fn=<MseLossBackward0>)\n",
      "tensor(2277.9692, grad_fn=<MseLossBackward0>)\n",
      "tensor(2277.4963, grad_fn=<MseLossBackward0>)\n",
      "tensor(2277.0286, grad_fn=<MseLossBackward0>)\n",
      "tensor(2276.5654, grad_fn=<MseLossBackward0>)\n",
      "tensor(2276.1045, grad_fn=<MseLossBackward0>)\n",
      "tensor(2275.6519, grad_fn=<MseLossBackward0>)\n",
      "tensor(2275.2002, grad_fn=<MseLossBackward0>)\n",
      "tensor(2274.7493, grad_fn=<MseLossBackward0>)\n",
      "tensor(2274.3062, grad_fn=<MseLossBackward0>)\n",
      "tensor(2273.8633, grad_fn=<MseLossBackward0>)\n",
      "tensor(2273.4219, grad_fn=<MseLossBackward0>)\n",
      "tensor(2272.9861, grad_fn=<MseLossBackward0>)\n",
      "tensor(2272.5532, grad_fn=<MseLossBackward0>)\n",
      "tensor(2271.7146, grad_fn=<MseLossBackward0>)\n",
      "tensor(2271.2527, grad_fn=<MseLossBackward0>)\n",
      "tensor(2270.7820, grad_fn=<MseLossBackward0>)\n",
      "tensor(2270.3103, grad_fn=<MseLossBackward0>)\n",
      "tensor(2269.8442, grad_fn=<MseLossBackward0>)\n",
      "tensor(2269.3850, grad_fn=<MseLossBackward0>)\n",
      "tensor(2268.9141, grad_fn=<MseLossBackward0>)\n",
      "tensor(2268.4333, grad_fn=<MseLossBackward0>)\n",
      "tensor(2267.9502, grad_fn=<MseLossBackward0>)\n",
      "tensor(2267.4653, grad_fn=<MseLossBackward0>)\n",
      "tensor(2266.9844, grad_fn=<MseLossBackward0>)\n",
      "tensor(2266.5088, grad_fn=<MseLossBackward0>)\n",
      "tensor(2266.0320, grad_fn=<MseLossBackward0>)\n",
      "tensor(2265.5544, grad_fn=<MseLossBackward0>)\n",
      "tensor(2265.0784, grad_fn=<MseLossBackward0>)\n",
      "tensor(2264.6079, grad_fn=<MseLossBackward0>)\n",
      "tensor(2264.1389, grad_fn=<MseLossBackward0>)\n",
      "tensor(2263.6729, grad_fn=<MseLossBackward0>)\n",
      "tensor(2263.2144, grad_fn=<MseLossBackward0>)\n",
      "tensor(2262.7556, grad_fn=<MseLossBackward0>)\n",
      "tensor(2261.9155, grad_fn=<MseLossBackward0>)\n",
      "tensor(2261.4263, grad_fn=<MseLossBackward0>)\n",
      "tensor(2260.9321, grad_fn=<MseLossBackward0>)\n",
      "tensor(2260.4534, grad_fn=<MseLossBackward0>)\n",
      "tensor(2259.9836, grad_fn=<MseLossBackward0>)\n",
      "tensor(2259.5176, grad_fn=<MseLossBackward0>)\n",
      "tensor(2259.0518, grad_fn=<MseLossBackward0>)\n",
      "tensor(2258.5854, grad_fn=<MseLossBackward0>)\n",
      "tensor(2258.1228, grad_fn=<MseLossBackward0>)\n",
      "tensor(2257.6685, grad_fn=<MseLossBackward0>)\n",
      "tensor(2257.2151, grad_fn=<MseLossBackward0>)\n",
      "tensor(2256.7651, grad_fn=<MseLossBackward0>)\n",
      "tensor(2256.3191, grad_fn=<MseLossBackward0>)\n",
      "tensor(2255.8743, grad_fn=<MseLossBackward0>)\n",
      "tensor(2255.4336, grad_fn=<MseLossBackward0>)\n",
      "tensor(2254.9946, grad_fn=<MseLossBackward0>)\n",
      "tensor(2254.5588, grad_fn=<MseLossBackward0>)\n",
      "tensor(2254.1255, grad_fn=<MseLossBackward0>)\n",
      "tensor(2253.6941, grad_fn=<MseLossBackward0>)\n",
      "tensor(2253.2649, grad_fn=<MseLossBackward0>)\n"
     ]
    }
   ],
   "source": [
    "# Training with Hybrid ANFIS:\n",
    "train_hybrid_anfis(model, x_train, y_train.reshape(-1,1), max_iters=10, gd_epochs=20, lr=1e-4)"
   ]
  },
  {
   "cell_type": "markdown",
   "id": "a4855ff4-628e-4efe-9f53-c42fed5e472f",
   "metadata": {},
   "source": [
    "Finally, the model was evaluated on the test set, and its performance was measured using the MSE and R². These metrics assessed how well the model's outputs matched the target values. "
   ]
  },
  {
   "cell_type": "code",
   "execution_count": 15,
   "id": "539bcde2-e649-41df-87be-3d9b15b44247",
   "metadata": {},
   "outputs": [
    {
     "name": "stdout",
     "output_type": "stream",
     "text": [
      "MSE: 2394.612548828125\n",
      "R²: 0.548028682084819\n"
     ]
    }
   ],
   "source": [
    "y_pred, _, _=model(x_test)\n",
    "\n",
    "mse = mean_squared_error(y_test.detach().numpy(),y_pred.detach().numpy())\n",
    "print(f'MSE: {mse}')\n",
    "\n",
    "r2 = r2_score(y_test.detach().numpy(), y_pred.detach().numpy())\n",
    "print(f'R²: {r2}')"
   ]
  },
  {
   "cell_type": "markdown",
   "id": "b9b49684-e892-4c43-b4ac-406723f980e2",
   "metadata": {},
   "source": [
    "Besides using the hybrid ANFIS to solve the regression problem, a neural network was also considered."
   ]
  },
  {
   "cell_type": "markdown",
   "id": "16cb6bef-31bc-4d77-9660-d740f53976da",
   "metadata": {},
   "source": [
    "The data was already split into training and testing, so there was no further splitting was needed. Consequently, a six-layer neural network was defined, with 4 hidden layers of 64 neurons each, employing ReLU activation functions and dropout equal to 50%."
   ]
  },
  {
   "cell_type": "code",
   "execution_count": 1003,
   "id": "b2bb2959-4dfe-4362-8b5f-582cf8fae502",
   "metadata": {},
   "outputs": [],
   "source": [
    "class MLP(nn.Module):\n",
    "    def __init__(self, input_size, output_size=1, dropout_prob=0.5):\n",
    "        super(MLP, self).__init__()\n",
    "        \n",
    "        self.fc1 = nn.Linear(input_size, 64)\n",
    "        self.fc2 = nn.Linear(64, 64)\n",
    "        self.fc3 = nn.Linear(64, 64)\n",
    "        self.fc4 = nn.Linear(64, 64)\n",
    "        self.out = nn.Linear(64, output_size)\n",
    "        \n",
    "        self.dropout = nn.Dropout(p=dropout_prob)\n",
    "        \n",
    "    def forward(self, x):\n",
    "        x = F.relu(self.fc1(x))\n",
    "        x = self.dropout(x)\n",
    "        \n",
    "        x = F.relu(self.fc2(x))\n",
    "        x = self.dropout(x)\n",
    "        \n",
    "        x = F.relu(self.fc3(x))\n",
    "        x = self.dropout(x)\n",
    "        \n",
    "        x = F.relu(self.fc4(x))\n",
    "        x = self.dropout(x)\n",
    "        \n",
    "        x = self.out(x)\n",
    "        return x"
   ]
  },
  {
   "cell_type": "markdown",
   "id": "3597d87f-5282-4ead-ba7e-6f0a80cfb290",
   "metadata": {},
   "source": [
    "The model was trained for 100 epochs, with a learning rate of 0.001, a dropout rate of 10% and a batch size of 64. These parameters were tuned to minimise the MSE."
   ]
  },
  {
   "cell_type": "code",
   "execution_count": 1004,
   "id": "f4fe3c0c-448a-4598-af7a-1b295cb89a0b",
   "metadata": {},
   "outputs": [],
   "source": [
    "num_epochs=100\n",
    "lr=1e-3\n",
    "dropout=0.1\n",
    "batch_size=64"
   ]
  },
  {
   "cell_type": "markdown",
   "id": "f512f4ba-e3c6-42d2-9244-3b24f69ebc8f",
   "metadata": {},
   "source": [
    "The training features were wrapped into a dataset, to organise the data. Then, it was prepared to be fed to the model according to the batch size specified above, and the order of the samples was randomised."
   ]
  },
  {
   "cell_type": "code",
   "execution_count": 1005,
   "id": "414c53b6-4d18-41ee-8d4d-8c6d0016a75f",
   "metadata": {},
   "outputs": [],
   "source": [
    "# Wrap Xtr and ytr into a dataset\n",
    "train_dataset = TensorDataset(x_train, y_train)\n",
    "\n",
    "# Create DataLoader\n",
    "train_dataloader = DataLoader(train_dataset, batch_size=batch_size, shuffle=True)"
   ]
  },
  {
   "cell_type": "markdown",
   "id": "d932ed96-f9de-4ea0-9ca7-120ae3a6d72c",
   "metadata": {},
   "source": [
    "The model was built with some variables previously chosen. Since it is a regression problem, the MSE was selected as the loss function, and an optimiser was employed to update the model parameters."
   ]
  },
  {
   "cell_type": "code",
   "execution_count": 1006,
   "id": "954ff983-2aaf-4149-94ee-35142656f990",
   "metadata": {},
   "outputs": [],
   "source": [
    "# Model, Loss, Optimizer\n",
    "\n",
    "model = MLP(input_size=x_train.shape[1], dropout_prob=dropout)\n",
    "criterion = nn.MSELoss() #for regression\n",
    "optimizer = optim.Adam(model.parameters(), lr=lr)"
   ]
  },
  {
   "cell_type": "markdown",
   "id": "b9244e9a-82ba-42c0-8362-97612f880f48",
   "metadata": {},
   "source": [
    "The model could finally be trained for the specified number of epochs. For each epoch, the training data was processed in batches with size also previously specified, the loss was computed and the model parameters were updated. The average loss was printed for each epoch, to allow the monitoring of the progress."
   ]
  },
  {
   "cell_type": "code",
   "execution_count": 1007,
   "id": "a77a506c-f031-459e-b87f-d3fa5d3760b6",
   "metadata": {},
   "outputs": [
    {
     "name": "stdout",
     "output_type": "stream",
     "text": [
      "Epoch [1/100], Loss: 29660.9619\n",
      "Epoch [2/100], Loss: 29788.9850\n",
      "Epoch [3/100], Loss: 29586.0215\n",
      "Epoch [4/100], Loss: 28792.2321\n",
      "Epoch [5/100], Loss: 28863.2220\n",
      "Epoch [6/100], Loss: 27873.9209\n",
      "Epoch [7/100], Loss: 25634.7119\n",
      "Epoch [8/100], Loss: 23130.8971\n",
      "Epoch [9/100], Loss: 17325.6877\n",
      "Epoch [10/100], Loss: 10680.4388\n",
      "Epoch [11/100], Loss: 6457.1261\n",
      "Epoch [12/100], Loss: 6276.6932\n",
      "Epoch [13/100], Loss: 5502.5242\n",
      "Epoch [14/100], Loss: 5063.7658\n",
      "Epoch [15/100], Loss: 4659.9666\n",
      "Epoch [16/100], Loss: 4274.6924\n",
      "Epoch [17/100], Loss: 4240.8907\n",
      "Epoch [18/100], Loss: 4313.2631\n",
      "Epoch [19/100], Loss: 4115.6631\n",
      "Epoch [20/100], Loss: 3838.8355\n",
      "Epoch [21/100], Loss: 3862.3254\n",
      "Epoch [22/100], Loss: 3594.5724\n",
      "Epoch [23/100], Loss: 3888.8632\n",
      "Epoch [24/100], Loss: 3666.7994\n",
      "Epoch [25/100], Loss: 3621.1355\n",
      "Epoch [26/100], Loss: 3669.9141\n",
      "Epoch [27/100], Loss: 3457.9644\n",
      "Epoch [28/100], Loss: 3551.3129\n",
      "Epoch [29/100], Loss: 3538.7520\n",
      "Epoch [30/100], Loss: 3607.4234\n",
      "Epoch [31/100], Loss: 3423.1811\n",
      "Epoch [32/100], Loss: 3461.2576\n",
      "Epoch [33/100], Loss: 3288.0006\n",
      "Epoch [34/100], Loss: 3263.4005\n",
      "Epoch [35/100], Loss: 3299.5542\n",
      "Epoch [36/100], Loss: 3230.7598\n",
      "Epoch [37/100], Loss: 3314.8182\n",
      "Epoch [38/100], Loss: 3448.2351\n",
      "Epoch [39/100], Loss: 3265.0455\n",
      "Epoch [40/100], Loss: 3195.5745\n",
      "Epoch [41/100], Loss: 3429.0108\n",
      "Epoch [42/100], Loss: 3272.7394\n",
      "Epoch [43/100], Loss: 3339.5204\n",
      "Epoch [44/100], Loss: 3239.6283\n",
      "Epoch [45/100], Loss: 3264.0770\n",
      "Epoch [46/100], Loss: 3176.1363\n",
      "Epoch [47/100], Loss: 3335.3214\n",
      "Epoch [48/100], Loss: 3076.5705\n",
      "Epoch [49/100], Loss: 3272.3771\n",
      "Epoch [50/100], Loss: 3454.7237\n",
      "Epoch [51/100], Loss: 3081.6567\n",
      "Epoch [52/100], Loss: 2972.6225\n",
      "Epoch [53/100], Loss: 3177.1613\n",
      "Epoch [54/100], Loss: 2987.2750\n",
      "Epoch [55/100], Loss: 3063.4849\n",
      "Epoch [56/100], Loss: 3152.9100\n",
      "Epoch [57/100], Loss: 3214.4244\n",
      "Epoch [58/100], Loss: 3139.5849\n",
      "Epoch [59/100], Loss: 3058.4862\n",
      "Epoch [60/100], Loss: 3069.5140\n",
      "Epoch [61/100], Loss: 3101.6979\n",
      "Epoch [62/100], Loss: 3090.5815\n",
      "Epoch [63/100], Loss: 3044.6683\n",
      "Epoch [64/100], Loss: 3132.9471\n",
      "Epoch [65/100], Loss: 2970.9565\n",
      "Epoch [66/100], Loss: 3036.1997\n",
      "Epoch [67/100], Loss: 3020.4601\n",
      "Epoch [68/100], Loss: 3036.4795\n",
      "Epoch [69/100], Loss: 2972.7870\n",
      "Epoch [70/100], Loss: 2957.5962\n",
      "Epoch [71/100], Loss: 3100.2474\n",
      "Epoch [72/100], Loss: 2913.0515\n",
      "Epoch [73/100], Loss: 3066.5878\n",
      "Epoch [74/100], Loss: 3053.2017\n",
      "Epoch [75/100], Loss: 3122.2092\n",
      "Epoch [76/100], Loss: 2947.0798\n",
      "Epoch [77/100], Loss: 3142.1738\n",
      "Epoch [78/100], Loss: 3026.1309\n",
      "Epoch [79/100], Loss: 3035.7267\n",
      "Epoch [80/100], Loss: 3222.9777\n",
      "Epoch [81/100], Loss: 3187.1478\n",
      "Epoch [82/100], Loss: 3086.9811\n",
      "Epoch [83/100], Loss: 2937.1926\n",
      "Epoch [84/100], Loss: 3044.1141\n",
      "Epoch [85/100], Loss: 2896.2768\n",
      "Epoch [86/100], Loss: 2960.8551\n",
      "Epoch [87/100], Loss: 3121.1252\n",
      "Epoch [88/100], Loss: 2847.1198\n",
      "Epoch [89/100], Loss: 2794.8611\n",
      "Epoch [90/100], Loss: 2868.2336\n",
      "Epoch [91/100], Loss: 3118.0590\n",
      "Epoch [92/100], Loss: 3016.0063\n",
      "Epoch [93/100], Loss: 2835.1297\n",
      "Epoch [94/100], Loss: 3037.2304\n",
      "Epoch [95/100], Loss: 2883.0775\n",
      "Epoch [96/100], Loss: 3094.7374\n",
      "Epoch [97/100], Loss: 2976.1246\n",
      "Epoch [98/100], Loss: 3045.6213\n",
      "Epoch [99/100], Loss: 2996.1859\n",
      "Epoch [100/100], Loss: 3186.9466\n"
     ]
    }
   ],
   "source": [
    "# Training loop\n",
    "for epoch in range(num_epochs):\n",
    "    model.train()\n",
    "    epoch_loss = 0.0\n",
    "    for batch_x, batch_y in train_dataloader:\n",
    "\n",
    "        logits = model(batch_x)\n",
    "        loss = criterion(logits, batch_y.view(-1, 1))\n",
    "\n",
    "        optimizer.zero_grad()\n",
    "        loss.backward()\n",
    "        optimizer.step()\n",
    "\n",
    "        epoch_loss += loss.item()\n",
    "\n",
    "    avg_loss = epoch_loss / len(train_dataloader)\n",
    "    print(f\"Epoch [{epoch+1}/{num_epochs}], Loss: {avg_loss:.4f}\")"
   ]
  },
  {
   "cell_type": "markdown",
   "id": "47401344-b8e5-40b9-b40b-55c6fe4d39f1",
   "metadata": {},
   "source": [
    "Lastly, the model was evaluated on the test set, and its performance was measured using the MSE and R². These metrics assessed how well the model's outputs matched the target values"
   ]
  },
  {
   "cell_type": "code",
   "execution_count": 1008,
   "id": "31c4268f-079c-49b5-a6f5-772658787ebd",
   "metadata": {},
   "outputs": [
    {
     "name": "stdout",
     "output_type": "stream",
     "text": [
      "MSE: 2985.1923828125\n",
      "R²: 0.436559676241867\n"
     ]
    }
   ],
   "source": [
    "y_pred = model(x_test)\n",
    "\n",
    "mse = mean_squared_error(y_test.detach().numpy(),y_pred.detach().numpy())\n",
    "print(f'MSE: {mse}')\n",
    "\n",
    "r2 = r2_score(y_test.detach().numpy(), y_pred.detach().numpy())\n",
    "print(f'R²: {r2}')"
   ]
  },
  {
   "cell_type": "markdown",
   "id": "f224f929-8cf5-40b8-859d-ced4b39098e2",
   "metadata": {},
   "source": [
    "By analysing the resulting MSE for both models, it was possible to conclude that the hybrid ANFIS was the best option for this regression problem. However, if the characteristics of the problem change, such as the number of samples, it is not certain that the hybrid ANFIS will have a better performance than the neural network, as the performance of both models is dependent on the characteristics of the problem. For larger datasets, a neural network may provide a better generalisation due to being more flexible, while the hybrid ANFIS has a better interpretability and can perform better on small to medium datasets."
   ]
  }
 ],
 "metadata": {
  "kernelspec": {
   "display_name": "Python 3 (ipykernel)",
   "language": "python",
   "name": "python3"
  },
  "language_info": {
   "codemirror_mode": {
    "name": "ipython",
    "version": 3
   },
   "file_extension": ".py",
   "mimetype": "text/x-python",
   "name": "python",
   "nbconvert_exporter": "python",
   "pygments_lexer": "ipython3",
   "version": "3.9.7"
  }
 },
 "nbformat": 4,
 "nbformat_minor": 5
}
